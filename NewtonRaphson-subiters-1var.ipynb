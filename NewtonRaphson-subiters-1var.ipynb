{
 "cells": [
  {
   "cell_type": "code",
   "execution_count": 1,
   "metadata": {},
   "outputs": [],
   "source": [
    "from sympy import *"
   ]
  },
  {
   "cell_type": "code",
   "execution_count": 2,
   "metadata": {},
   "outputs": [],
   "source": [
    "x = symbols('x')"
   ]
  },
  {
   "cell_type": "code",
   "execution_count": 3,
   "metadata": {},
   "outputs": [],
   "source": [
    "f = exp(x*x+7.0*x-30.0)-1.0;\n",
    "df = exp(x*x+7.0*x-30.0)*(2.0*x+7.0);\n",
    "x0 = 3.3\n",
    "\n",
    "#f = x*exp(x*x) - sin(x)**2 + 3.0*cos(x) + 5.0;\n",
    "#df = exp(x*x) + x*exp(x*x)*2.0*x - 2.0*sin(x)*cos(x) - 3.0*sin(x);\n",
    "#x00 = -2.0"
   ]
  },
  {
   "cell_type": "code",
   "execution_count": 4,
   "metadata": {},
   "outputs": [],
   "source": [
    "ndigits=2000\n",
    "u = x0\n",
    "far = []\n",
    "for iter in range(20):\n",
    "    dfu = N(df.subs(x,u), ndigits)\n",
    "    for subiter in range(1):\n",
    "        fu = N(f.subs(x,u), ndigits)\n",
    "        #print(N(fu,ndigits))\n",
    "        if(subiter==0):\n",
    "            far.append(abs(fu))\n",
    "        u = N(u - fu/dfu, ndigits)\n",
    "        #print(u)"
   ]
  },
  {
   "cell_type": "code",
   "execution_count": 5,
   "metadata": {},
   "outputs": [
    {
     "name": "stdout",
     "output_type": "stream",
     "text": [
      "\n",
      "Residual \n",
      "\n",
      "5.305489E+01\n",
      "1.936277E+01\n",
      "6.907498E+00\n",
      "2.315400E+00\n",
      "6.536869E-01\n",
      "1.147502E-01\n",
      "5.771438E-03\n",
      "1.672237E-05\n",
      "1.414703E-10\n",
      "1.012535E-20\n",
      "5.186798E-41\n",
      "1.361062E-81\n",
      "9.372070E-163\n",
      "0.000000E+00\n",
      "0.000000E+00\n",
      "0.000000E+00\n",
      "0.000000E+00\n",
      "0.000000E+00\n",
      "0.000000E+00\n",
      "0.000000E+00\n",
      "\n",
      "Order of convergence \n",
      "\n",
      "1.0226\n",
      "1.0604\n",
      "1.1571\n",
      "1.3757\n",
      "1.7184\n",
      "1.9546\n",
      "1.9987\n",
      "2.0000\n",
      "2.0000\n",
      "2.0000\n",
      "2.0000\n",
      "2.0000\n",
      "2.0000\n",
      "2.0000\n"
     ]
    }
   ],
   "source": [
    "print(\"\\nResidual \\n\")\n",
    "a =[]\n",
    "for i in range(len(far)):\n",
    "    #print(far[i])\n",
    "    print(\"%E\" % (far[i]))\n",
    "    a.append(log(far[i]))\n",
    "\n",
    "print(\"\\nOrder of convergence \\n\")\n",
    "for i in range(len(a)-6):\n",
    "    r = N((a[i+2]-a[i+1])/(a[i+1]-a[i]),5)\n",
    "    print(r)"
   ]
  },
  {
   "cell_type": "code",
   "execution_count": 6,
   "metadata": {},
   "outputs": [],
   "source": [
    "ndigits=2000\n",
    "u = x0\n",
    "far = []\n",
    "for iter in range(20):\n",
    "    dfu = N(df.subs(x,u), ndigits)\n",
    "    for subiter in range(1):\n",
    "        fu = N(f.subs(x,u), ndigits)\n",
    "        #print(N(fu,ndigits))\n",
    "        if(subiter==0):\n",
    "            far.append(abs(fu))\n",
    "        u = N(u - fu/dfu, ndigits)\n",
    "        #print(N(x0,ndigits))"
   ]
  },
  {
   "cell_type": "code",
   "execution_count": 7,
   "metadata": {},
   "outputs": [
    {
     "name": "stdout",
     "output_type": "stream",
     "text": [
      "\n",
      "Residual \n",
      "\n",
      "0 - 5.305489E+01\n",
      "1 - 1.936277E+01\n",
      "2 - 6.907498E+00\n",
      "3 - 2.315400E+00\n",
      "4 - 6.536869E-01\n",
      "5 - 1.147502E-01\n",
      "6 - 5.771438E-03\n",
      "7 - 1.672237E-05\n",
      "8 - 1.414703E-10\n",
      "9 - 1.012535E-20\n",
      "10 - 5.186798E-41\n",
      "11 - 1.361062E-81\n",
      "12 - 9.372070E-163\n",
      "13 - 0.000000E+00\n",
      "14 - 0.000000E+00\n",
      "15 - 0.000000E+00\n",
      "16 - 0.000000E+00\n",
      "17 - 0.000000E+00\n",
      "18 - 0.000000E+00\n",
      "19 - 0.000000E+00\n",
      "\n",
      "Order of convergence \n",
      "\n",
      "1.0226\n",
      "1.0604\n",
      "1.1571\n",
      "1.3757\n",
      "1.7184\n",
      "1.9546\n",
      "1.9987\n",
      "2.0000\n",
      "2.0000\n",
      "2.0000\n",
      "2.0000\n",
      "2.0000\n",
      "2.0000\n",
      "2.0000\n"
     ]
    }
   ],
   "source": [
    "print(\"\\nResidual \\n\")\n",
    "a =[]\n",
    "for i in range(len(far)):\n",
    "    #print(far[i])\n",
    "    print(\"%d - %E\" % (i,far[i]))\n",
    "    a.append(log(far[i]))\n",
    "\n",
    "print(\"\\nOrder of convergence \\n\")\n",
    "for i in range(len(a)-6):\n",
    "    r = N((a[i+2]-a[i+1])/(a[i+1]-a[i]),5)\n",
    "    print(r)"
   ]
  },
  {
   "cell_type": "code",
   "execution_count": 8,
   "metadata": {},
   "outputs": [],
   "source": [
    "u = x0\n",
    "far = []\n",
    "for iter in range(15):\n",
    "    ff = 0.0\n",
    "    dfu = N(df.subs(x,u), ndigits)\n",
    "    utemp = u\n",
    "    for subiter in range(2):\n",
    "        fu = N(f.subs(x,utemp), ndigits)\n",
    "        ff = ff+fu\n",
    "        #print(N(fu,ndigits))\n",
    "        if(subiter==0):\n",
    "            far.append(abs(fu))\n",
    "        utemp = N(u - ff/dfu, ndigits)\n",
    "        #print(N(x0,ndigits))\n",
    "    u = utemp"
   ]
  },
  {
   "cell_type": "code",
   "execution_count": 9,
   "metadata": {},
   "outputs": [
    {
     "name": "stdout",
     "output_type": "stream",
     "text": [
      "\n",
      "Residual \n",
      "\n",
      "5.305489E+01\n",
      "1.329626E+01\n",
      "3.105166E+00\n",
      "5.435528E-01\n",
      "2.745403E-02\n",
      "9.873298E-06\n",
      "4.926793E-16\n",
      "6.121839E-47\n",
      "1.174450E-139\n",
      "0.000000E+00\n",
      "0.000000E+00\n",
      "0.000000E+00\n",
      "0.000000E+00\n",
      "0.000000E+00\n",
      "0.000000E+00\n",
      "\n",
      "Order of convergence \n",
      "\n",
      "1.0510\n",
      "1.1982\n",
      "1.7132\n",
      "2.6562\n",
      "2.9911\n",
      "3.0000\n",
      "3.0000\n",
      "3.0000\n",
      "3.0000\n"
     ]
    }
   ],
   "source": [
    "print(\"\\nResidual \\n\")\n",
    "a =[]\n",
    "for i in range(len(far)):\n",
    "    print(\"%E\" % (far[i]))\n",
    "    a.append(log(far[i]))\n",
    "\n",
    "print(\"\\nOrder of convergence \\n\")\n",
    "for i in range(len(a)-6):\n",
    "    r = N((a[i+2]-a[i+1])/(a[i+1]-a[i]),5)\n",
    "    print(r)"
   ]
  },
  {
   "cell_type": "code",
   "execution_count": 10,
   "metadata": {},
   "outputs": [],
   "source": [
    "u = x0\n",
    "far = []\n",
    "for iter in range(15):\n",
    "    ff = 0.0\n",
    "    dfu = N(df.subs(x,u), ndigits)\n",
    "    for subiter in range(2):\n",
    "        fu = N(f.subs(x,u), ndigits)\n",
    "        ff = ff+fu\n",
    "        #print(N(fu,ndigits))\n",
    "        if(subiter==0):\n",
    "            far.append(abs(fu))\n",
    "        u = N(u - fu/dfu, ndigits)\n",
    "        #print(N(x0,ndigits))\n",
    "    #u = utemp"
   ]
  },
  {
   "cell_type": "code",
   "execution_count": 11,
   "metadata": {},
   "outputs": [
    {
     "name": "stdout",
     "output_type": "stream",
     "text": [
      "\n",
      "Residual \n",
      "\n",
      "5.305489E+01\n",
      "1.329626E+01\n",
      "3.105166E+00\n",
      "5.435528E-01\n",
      "2.745403E-02\n",
      "9.873298E-06\n",
      "4.926793E-16\n",
      "6.121839E-47\n",
      "1.174450E-139\n",
      "0.000000E+00\n",
      "0.000000E+00\n",
      "0.000000E+00\n",
      "0.000000E+00\n",
      "0.000000E+00\n",
      "0.000000E+00\n",
      "\n",
      "Order of convergence \n",
      "\n",
      "1.0510\n",
      "1.1982\n",
      "1.7132\n",
      "2.6562\n",
      "2.9911\n",
      "3.0000\n",
      "3.0000\n",
      "3.0000\n",
      "3.0000\n"
     ]
    }
   ],
   "source": [
    "print(\"\\nResidual \\n\")\n",
    "a =[]\n",
    "for i in range(len(far)):\n",
    "    print(\"%E\" % (far[i]))\n",
    "    a.append(log(far[i]))\n",
    "\n",
    "print(\"\\nOrder of convergence \\n\")\n",
    "for i in range(len(a)-6):\n",
    "    r = N((a[i+2]-a[i+1])/(a[i+1]-a[i]),5)\n",
    "    print(r)"
   ]
  },
  {
   "cell_type": "code",
   "execution_count": 12,
   "metadata": {},
   "outputs": [],
   "source": [
    "u = x0\n",
    "far = []\n",
    "for iter in range(15):\n",
    "    ff = 0.0\n",
    "    dfu = N(df.subs(x,u), ndigits)\n",
    "    utemp = u\n",
    "    for subiter in range(3):\n",
    "        fu = N(f.subs(x,utemp), ndigits)\n",
    "        ff = ff+fu\n",
    "        #print(N(fu,ndigits))\n",
    "        if(subiter==0):\n",
    "            far.append(abs(fu))\n",
    "        utemp = N(u - ff/dfu, ndigits)\n",
    "        #print(N(x0,ndigits))\n",
    "    u = utemp"
   ]
  },
  {
   "cell_type": "code",
   "execution_count": 13,
   "metadata": {},
   "outputs": [
    {
     "name": "stdout",
     "output_type": "stream",
     "text": [
      "\n",
      "Residual \n",
      "\n",
      "5.305489E+01\n",
      "1.022239E+01\n",
      "1.709299E+00\n",
      "1.296938E-01\n",
      "9.427603E-05\n",
      "4.090306E-17\n",
      "1.449844E-66\n",
      "2.288673E-264\n",
      "0.000000E+00\n",
      "0.000000E+00\n",
      "0.000000E+00\n",
      "0.000000E+00\n",
      "0.000000E+00\n",
      "0.000000E+00\n",
      "0.000000E+00\n",
      "\n",
      "Order of convergence \n",
      "\n",
      "1.0861\n",
      "1.4418\n",
      "2.8025\n",
      "3.9390\n",
      "4.0000\n",
      "4.0000\n",
      "4.0000\n"
     ]
    }
   ],
   "source": [
    "print(\"\\nResidual \\n\")\n",
    "a =[]\n",
    "for i in range(len(far)):\n",
    "    print(\"%E\" % (far[i]))\n",
    "    a.append(log(far[i]))\n",
    "\n",
    "print(\"\\nOrder of convergence \\n\")\n",
    "for i in range(len(a)-8):\n",
    "    r = N((a[i+2]-a[i+1])/(a[i+1]-a[i]),5)\n",
    "    print(r)"
   ]
  },
  {
   "cell_type": "code",
   "execution_count": 14,
   "metadata": {},
   "outputs": [],
   "source": [
    "u = x0\n",
    "far = []\n",
    "for iter in range(15):\n",
    "    ff = 0.0\n",
    "    dfu = N(df.subs(x,u), ndigits)\n",
    "    utemp = u\n",
    "    for subiter in range(4):\n",
    "        fu = N(f.subs(x,utemp), ndigits)\n",
    "        ff = ff+fu\n",
    "        #print(N(fu,ndigits))\n",
    "        if(subiter==0):\n",
    "            far.append(abs(fu))\n",
    "        utemp = N(u - ff/dfu, ndigits)\n",
    "        #print(N(x0,ndigits))\n",
    "    u = utemp"
   ]
  },
  {
   "cell_type": "code",
   "execution_count": 15,
   "metadata": {},
   "outputs": [
    {
     "name": "stdout",
     "output_type": "stream",
     "text": [
      "\n",
      "Residual \n",
      "\n",
      "5.305489E+01\n",
      "8.320682E+00\n",
      "1.029761E+00\n",
      "2.280616E-02\n",
      "2.913865E-09\n",
      "1.100918E-43\n",
      "8.475822E-216\n",
      "0.000000E+00\n",
      "0.000000E+00\n",
      "0.000000E+00\n",
      "0.000000E+00\n",
      "0.000000E+00\n",
      "0.000000E+00\n",
      "0.000000E+00\n",
      "0.000000E+00\n",
      "\n",
      "Order of convergence \n",
      "\n",
      "1.1278\n",
      "1.8235\n",
      "4.1661\n",
      "4.9934\n",
      "5.0000\n",
      "5.0000\n"
     ]
    }
   ],
   "source": [
    "print(\"\\nResidual \\n\")\n",
    "a =[]\n",
    "for i in range(len(far)):\n",
    "    print(\"%E\" % (far[i]))\n",
    "    a.append(log(far[i]))\n",
    "\n",
    "print(\"\\nOrder of convergence \\n\")\n",
    "for i in range(len(a)-9):\n",
    "    r = N((a[i+2]-a[i+1])/(a[i+1]-a[i]),5)\n",
    "    print(r)"
   ]
  },
  {
   "cell_type": "code",
   "execution_count": 16,
   "metadata": {},
   "outputs": [],
   "source": [
    "u = x0\n",
    "far = []\n",
    "for iter in range(15):\n",
    "    ff = 0.0\n",
    "    dfu = N(df.subs(x,u), ndigits)\n",
    "    utemp = u\n",
    "    for subiter in range(5):\n",
    "        fu = N(f.subs(x,utemp), ndigits)\n",
    "        ff = ff+fu\n",
    "        #print(N(fu,ndigits))\n",
    "        if(subiter==0):\n",
    "            far.append(abs(fu))\n",
    "        utemp = N(u - ff/dfu, ndigits)\n",
    "        #print(N(x0,ndigits))\n",
    "    u = utemp"
   ]
  },
  {
   "cell_type": "code",
   "execution_count": 17,
   "metadata": {},
   "outputs": [
    {
     "name": "stdout",
     "output_type": "stream",
     "text": [
      "\n",
      "Residual \n",
      "\n",
      "5.305489E+01\n",
      "7.015585E+00\n",
      "6.491302E-01\n",
      "2.335651E-03\n",
      "8.497126E-17\n",
      "1.995948E-97\n",
      "0.000000E+00\n",
      "0.000000E+00\n",
      "0.000000E+00\n",
      "0.000000E+00\n",
      "0.000000E+00\n",
      "0.000000E+00\n",
      "0.000000E+00\n",
      "0.000000E+00\n",
      "0.000000E+00\n",
      "\n",
      "Order of convergence \n",
      "\n",
      "1.1765\n",
      "2.3642\n",
      "5.4990\n",
      "5.9996\n",
      "6.0000\n"
     ]
    }
   ],
   "source": [
    "print(\"\\nResidual \\n\")\n",
    "a =[]\n",
    "for i in range(len(far)):\n",
    "    print(\"%E\" % (far[i]))\n",
    "    a.append(log(far[i]))\n",
    "\n",
    "print(\"\\nOrder of convergence \\n\")\n",
    "for i in range(len(a)-10):\n",
    "    r = N((a[i+2]-a[i+1])/(a[i+1]-a[i]),5)\n",
    "    print(r)"
   ]
  },
  {
   "cell_type": "code",
   "execution_count": null,
   "metadata": {},
   "outputs": [],
   "source": []
  },
  {
   "cell_type": "code",
   "execution_count": null,
   "metadata": {},
   "outputs": [],
   "source": []
  }
 ],
 "metadata": {
  "kernelspec": {
   "display_name": "Python 3",
   "language": "python",
   "name": "python3"
  },
  "language_info": {
   "codemirror_mode": {
    "name": "ipython",
    "version": 3
   },
   "file_extension": ".py",
   "mimetype": "text/x-python",
   "name": "python",
   "nbconvert_exporter": "python",
   "pygments_lexer": "ipython3",
   "version": "3.6.9"
  }
 },
 "nbformat": 4,
 "nbformat_minor": 2
}
