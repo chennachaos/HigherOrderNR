{
 "cells": [
  {
   "cell_type": "code",
   "execution_count": 1,
   "metadata": {},
   "outputs": [],
   "source": [
    "from sympy import *"
   ]
  },
  {
   "cell_type": "code",
   "execution_count": 2,
   "metadata": {},
   "outputs": [],
   "source": [
    "x,y,z = symbols('x,y,z')"
   ]
  },
  {
   "cell_type": "code",
   "execution_count": 3,
   "metadata": {},
   "outputs": [],
   "source": [
    "f = Matrix([x+y+z-3.0,\n",
    "     x*x+y*y+z*z-5.0,\n",
    "     exp(x)+x*y-x*z-1.0])\n",
    "\n",
    "df = Matrix([[1.0, 1.0, 1.0], [2.0*x, 2.0*y, 2.0*z], [exp(x)+y-z, x, -x]])\n",
    "\n",
    "x0 = Matrix([0.5, 5.0, 0.0])"
   ]
  },
  {
   "cell_type": "code",
   "execution_count": 4,
   "metadata": {},
   "outputs": [],
   "source": [
    "ndigits=2000\n",
    "u = x0\n",
    "far = []\n",
    "for iter in range(20):\n",
    "    dfu = N(df.subs({x:u[0],y:u[1],z:u[2]}), ndigits)\n",
    "    for subiter in range(1):\n",
    "        fu = N(f.subs({x:u[0],y:u[1],z:u[2]}), ndigits)\n",
    "        #print(N(fu,ndigits))\n",
    "        if(subiter==0):\n",
    "            far.append(fu.norm())\n",
    "        u = N(u - dfu.inv()*fu, ndigits)\n",
    "        #print(N(x0,ndigits))\n"
   ]
  },
  {
   "cell_type": "code",
   "execution_count": 5,
   "metadata": {},
   "outputs": [
    {
     "name": "stdout",
     "output_type": "stream",
     "text": [
      "\n",
      "Residual \n",
      "\n",
      "2.064526E+01\n",
      "4.166959E+00\n",
      "9.782783E-01\n",
      "1.864290E-01\n",
      "1.671427E-02\n",
      "1.880763E-04\n",
      "2.382427E-08\n",
      "3.695194E-16\n",
      "8.650606E-32\n",
      "4.637483E-63\n",
      "1.308663E-125\n",
      "1.026247E-250\n",
      "0.000000E+00\n",
      "0.000000E+00\n",
      "0.000000E+00\n",
      "0.000000E+00\n",
      "0.000000E+00\n",
      "0.000000E+00\n",
      "0.000000E+00\n",
      "0.000000E+00\n",
      "\n",
      "Order of convergence \n",
      "\n",
      "0.90555\n",
      "1.1439\n",
      "1.4549\n",
      "1.8605\n",
      "1.9999\n",
      "2.0038\n",
      "2.0015\n",
      "2.0006\n",
      "2.0003\n",
      "2.0001\n",
      "2.0000\n",
      "2.0000\n",
      "1.9999\n"
     ]
    }
   ],
   "source": [
    "print(\"\\nResidual \\n\")\n",
    "a =[]\n",
    "for i in range(len(far)):\n",
    "    #print(far[i])\n",
    "    print(\"%E\" % (far[i]))\n",
    "    a.append(log(far[i]))\n",
    "\n",
    "print(\"\\nOrder of convergence \\n\")\n",
    "for i in range(len(a)-7):\n",
    "    r = N((a[i+2]-a[i+1])/(a[i+1]-a[i]),5)\n",
    "    print(r)"
   ]
  },
  {
   "cell_type": "code",
   "execution_count": 6,
   "metadata": {},
   "outputs": [],
   "source": [
    "ndigits=2000\n",
    "u = x0\n",
    "far = []\n",
    "for iter in range(20):\n",
    "    dfu = N(df.subs({x:u[0],y:u[1],z:u[2]}), ndigits)\n",
    "    for subiter in range(2):\n",
    "        fu = N(f.subs({x:u[0],y:u[1],z:u[2]}), ndigits)\n",
    "        #print(N(fu,ndigits))\n",
    "        if(subiter==0):\n",
    "            far.append(fu.norm())\n",
    "        u = N(u - dfu.inv()*fu, ndigits)\n",
    "        #print(N(x0,ndigits))"
   ]
  },
  {
   "cell_type": "code",
   "execution_count": 7,
   "metadata": {},
   "outputs": [
    {
     "name": "stdout",
     "output_type": "stream",
     "text": [
      "\n",
      "Residual \n",
      "\n",
      "2.064526E+01\n",
      "1.906704E+00\n",
      "2.069044E-01\n",
      "4.395147E-03\n",
      "8.730011E-08\n",
      "6.063600E-22\n",
      "1.843426E-64\n",
      "4.829807E-192\n",
      "0.000000E+00\n",
      "0.000000E+00\n",
      "0.000000E+00\n",
      "0.000000E+00\n",
      "0.000000E+00\n",
      "0.000000E+00\n",
      "0.000000E+00\n",
      "0.000000E+00\n",
      "0.000000E+00\n",
      "0.000000E+00\n",
      "0.000000E+00\n",
      "0.000000E+00\n",
      "\n",
      "Order of convergence \n",
      "\n",
      "0.93231\n",
      "1.7343\n",
      "2.8108\n",
      "3.0111\n",
      "3.0030\n",
      "3.0007\n",
      "3.0002\n",
      "3.0000\n"
     ]
    }
   ],
   "source": [
    "print(\"\\nResidual \\n\")\n",
    "a =[]\n",
    "for i in range(len(far)):\n",
    "    print(\"%E\" % (far[i]))\n",
    "    a.append(log(far[i]))\n",
    "\n",
    "print(\"\\nOrder of convergence \\n\")\n",
    "for i in range(len(a)-12):\n",
    "    r = N((a[i+2]-a[i+1])/(a[i+1]-a[i]),5)\n",
    "    print(r)"
   ]
  },
  {
   "cell_type": "code",
   "execution_count": 8,
   "metadata": {},
   "outputs": [],
   "source": [
    "ndigits=2000\n",
    "u = x0\n",
    "far = []\n",
    "for iter in range(20):\n",
    "    ff = Matrix([0.0, 0.0, 0.0])\n",
    "    dfu = N(df.subs({x:u[0],y:u[1],z:u[2]}), ndigits)\n",
    "    utemp = u\n",
    "    for subiter in range(3):\n",
    "        fu = N(f.subs({x:utemp[0],y:utemp[1],z:utemp[2]}), ndigits)\n",
    "        ff = ff+fu\n",
    "        #print(N(fu,ndigits))\n",
    "        if(subiter==0):\n",
    "            far.append(fu.norm())\n",
    "        utemp = N(u - dfu.inv()*ff, ndigits)\n",
    "        #print(N(x0,ndigits))\n",
    "    u = utemp"
   ]
  },
  {
   "cell_type": "code",
   "execution_count": 9,
   "metadata": {},
   "outputs": [
    {
     "name": "stdout",
     "output_type": "stream",
     "text": [
      "\n",
      "Residual \n",
      "\n",
      "2.064526E+01\n",
      "1.133133E+00\n",
      "5.240002E-02\n",
      "9.693639E-06\n",
      "1.219339E-20\n",
      "2.494183E-80\n",
      "3.814730E-319\n",
      "0.000000E+00\n",
      "0.000000E+00\n",
      "0.000000E+00\n",
      "0.000000E+00\n",
      "0.000000E+00\n",
      "0.000000E+00\n",
      "0.000000E+00\n",
      "0.000000E+00\n",
      "0.000000E+00\n",
      "0.000000E+00\n",
      "0.000000E+00\n",
      "0.000000E+00\n",
      "0.000000E+00\n",
      "\n",
      "Order of convergence \n",
      "\n",
      "1.0590\n",
      "2.7962\n",
      "3.9917\n",
      "4.0059\n",
      "4.0010\n",
      "4.0002\n"
     ]
    }
   ],
   "source": [
    "print(\"\\nResidual \\n\")\n",
    "a =[]\n",
    "for i in range(len(far)):\n",
    "    print(\"%E\" % (far[i]))\n",
    "    a.append(log(far[i]))\n",
    "\n",
    "print(\"\\nOrder of convergence \\n\")\n",
    "for i in range(len(a)-14):\n",
    "    r = N((a[i+2]-a[i+1])/(a[i+1]-a[i]),5)\n",
    "    print(r)"
   ]
  },
  {
   "cell_type": "code",
   "execution_count": 10,
   "metadata": {},
   "outputs": [],
   "source": [
    "ndigits=2000\n",
    "u = x0\n",
    "far = []\n",
    "for iter in range(20):\n",
    "    ff = Matrix([0.0, 0.0, 0.0])\n",
    "    dfu = N(df.subs({x:u[0],y:u[1],z:u[2]}), ndigits)\n",
    "    utemp = u\n",
    "    for subiter in range(4):\n",
    "        fu = N(f.subs({x:utemp[0],y:utemp[1],z:utemp[2]}), ndigits)\n",
    "        ff = ff+fu\n",
    "        #print(N(fu,ndigits))\n",
    "        if(subiter==0):\n",
    "            far.append(fu.norm())\n",
    "        utemp = N(u - dfu.inv()*ff, ndigits)\n",
    "        #print(N(x0,ndigits))\n",
    "    u = utemp"
   ]
  },
  {
   "cell_type": "code",
   "execution_count": 11,
   "metadata": {},
   "outputs": [
    {
     "name": "stdout",
     "output_type": "stream",
     "text": [
      "\n",
      "Residual \n",
      "\n",
      "2.064526E+01\n",
      "7.549592E-01\n",
      "1.180589E-02\n",
      "5.569385E-10\n",
      "9.672383E-47\n",
      "1.184959E-230\n",
      "0.000000E+00\n",
      "0.000000E+00\n",
      "0.000000E+00\n",
      "0.000000E+00\n",
      "0.000000E+00\n",
      "0.000000E+00\n",
      "0.000000E+00\n",
      "0.000000E+00\n",
      "0.000000E+00\n",
      "0.000000E+00\n",
      "0.000000E+00\n",
      "0.000000E+00\n",
      "0.000000E+00\n",
      "0.000000E+00\n",
      "\n",
      "Order of convergence \n",
      "\n",
      "1.2568\n",
      "4.0570\n",
      "5.0176\n",
      "5.0030\n",
      "5.0004\n"
     ]
    }
   ],
   "source": [
    "print(\"\\nResidual \\n\")\n",
    "a =[]\n",
    "for i in range(len(far)):\n",
    "    print(\"%E\" % (far[i]))\n",
    "    a.append(log(far[i]))\n",
    "\n",
    "print(\"\\nOrder of convergence \\n\")\n",
    "for i in range(len(a)-15):\n",
    "    r = N((a[i+2]-a[i+1])/(a[i+1]-a[i]),5)\n",
    "    print(r)"
   ]
  },
  {
   "cell_type": "code",
   "execution_count": 12,
   "metadata": {},
   "outputs": [],
   "source": [
    "ndigits=2000\n",
    "u = x0\n",
    "far = []\n",
    "for iter in range(20):\n",
    "    ff = Matrix([0.0, 0.0, 0.0])\n",
    "    dfu = N(df.subs({x:u[0],y:u[1],z:u[2]}), ndigits)\n",
    "    utemp = u\n",
    "    for subiter in range(5):\n",
    "        fu = N(f.subs({x:utemp[0],y:utemp[1],z:utemp[2]}), ndigits)\n",
    "        ff = ff+fu\n",
    "        #print(N(fu,ndigits))\n",
    "        if(subiter==0):\n",
    "            far.append(fu.norm())\n",
    "        utemp = N(u - dfu.inv()*ff, ndigits)\n",
    "        #print(N(x0,ndigits))\n",
    "    u = utemp"
   ]
  },
  {
   "cell_type": "code",
   "execution_count": 13,
   "metadata": {},
   "outputs": [
    {
     "name": "stdout",
     "output_type": "stream",
     "text": [
      "\n",
      "Residual \n",
      "\n",
      "2.064526E+01\n",
      "5.371044E-01\n",
      "2.098055E-03\n",
      "3.237192E-16\n",
      "2.727055E-93\n",
      "0.000000E+00\n",
      "0.000000E+00\n",
      "0.000000E+00\n",
      "0.000000E+00\n",
      "0.000000E+00\n",
      "0.000000E+00\n",
      "0.000000E+00\n",
      "0.000000E+00\n",
      "0.000000E+00\n",
      "0.000000E+00\n",
      "0.000000E+00\n",
      "0.000000E+00\n",
      "0.000000E+00\n",
      "0.000000E+00\n",
      "0.000000E+00\n",
      "\n",
      "Order of convergence \n",
      "\n",
      "1.5196\n",
      "5.3199\n",
      "6.0160\n",
      "6.0017\n"
     ]
    }
   ],
   "source": [
    "print(\"\\nResidual \\n\")\n",
    "a =[]\n",
    "for i in range(len(far)):\n",
    "    print(\"%E\" % (far[i]))\n",
    "    a.append(log(far[i]))\n",
    "\n",
    "print(\"\\nOrder of convergence \\n\")\n",
    "for i in range(len(a)-16):\n",
    "    r = N((a[i+2]-a[i+1])/(a[i+1]-a[i]),5)\n",
    "    print(r)"
   ]
  },
  {
   "cell_type": "code",
   "execution_count": null,
   "metadata": {},
   "outputs": [],
   "source": []
  }
 ],
 "metadata": {
  "kernelspec": {
   "display_name": "Python 3",
   "language": "python",
   "name": "python3"
  },
  "language_info": {
   "codemirror_mode": {
    "name": "ipython",
    "version": 3
   },
   "file_extension": ".py",
   "mimetype": "text/x-python",
   "name": "python",
   "nbconvert_exporter": "python",
   "pygments_lexer": "ipython3",
   "version": "3.6.9"
  }
 },
 "nbformat": 4,
 "nbformat_minor": 2
}
